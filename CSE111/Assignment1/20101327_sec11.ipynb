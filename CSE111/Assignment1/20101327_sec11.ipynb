{
 "cells": [
  {
   "cell_type": "code",
   "execution_count": 6,
   "metadata": {},
   "outputs": [
    {
     "name": "stdout",
     "output_type": "stream",
     "text": [
      "3\n",
      "5\n",
      "6\n",
      "9\n",
      "10\n",
      "12\n",
      "15\n",
      "18\n",
      "20\n",
      "21\n",
      "24\n",
      "25\n",
      "27\n",
      "30\n"
     ]
    }
   ],
   "source": [
    "n = 1\n",
    "while (n < 30):\n",
    "    n = n+1\n",
    "    if (n % 3 == 0):\n",
    "        print(n)\n",
    "    elif (n % 5 == 0):\n",
    "        print(n)\n",
    "\n"
   ]
  },
  {
   "cell_type": "code",
   "execution_count": 7,
   "metadata": {},
   "outputs": [
    {
     "name": "stdout",
     "output_type": "stream",
     "text": [
      "Enter the first number: 10\n",
      "Enter the second number 10\n",
      "Enter the third number: 10\n",
      "10\n"
     ]
    }
   ],
   "source": [
    "n1 = int(input(\"Enter the first number: \"))\n",
    "n2 = int(input(\"Enter the second number \"))\n",
    "n3 = int(input(\"Enter the third number: \"))\n",
    "\n",
    "if (n1>=n2) and (n1>=n3):\n",
    "    print(n1)\n",
    "elif (n2>=n3) and (n2>=n1):\n",
    "    print(n2)\n",
    "elif (n3>=n2) and (n3>=n1):\n",
    "    print(n3)"
   ]
  },
  {
   "cell_type": "code",
   "execution_count": 4,
   "metadata": {},
   "outputs": [
    {
     "name": "stdout",
     "output_type": "stream",
     "text": [
      "Enter the mark of first subject: 120\n",
      "Enter the mark of second subject: 88\n",
      "Enter the mark of third subject: 14\n",
      "Wrong input!\n",
      "A-\n",
      "F\n"
     ]
    }
   ],
   "source": [
    "n1 = int(input(\"Enter the mark of first subject: \"))\n",
    "n2 = int(input(\"Enter the mark of second subject: \"))\n",
    "n3 = int(input(\"Enter the mark of third subject: \"))\n",
    "\n",
    "if (n1>100) or (n2>100) or (n3>100):\n",
    "    print(\"Wrong input!\")\n",
    "\n",
    "elif (n1>=90):\n",
    "    print(\"A\")\n",
    "elif (n1>=85):\n",
    "    print(\"A-\")\n",
    "elif (n1>=80):\n",
    "    print(\"B+\")\n",
    "elif (n1>=75):\n",
    "    print(\"B\")\n",
    "elif (n1>=70):\n",
    "    print(\"B-\")\n",
    "elif (n1>=65):\n",
    "    print(\"C+\")\n",
    "elif (n1>=60):\n",
    "    print(\"C\")\n",
    "elif (n1>=57):\n",
    "    print(\"C-\")\n",
    "elif (n1>=55):\n",
    "    print(\"D+\")\n",
    "elif (n1>=52):\n",
    "    print(\"D-\")\n",
    "elif (n1>=50):\n",
    "    print(\"D-\")\n",
    "elif (n1<50):\n",
    "    print(\"F\")\n",
    "\n",
    "if (n2>=90):\n",
    "    print(\"A\")\n",
    "elif (n2>=85):\n",
    "    print(\"A-\")\n",
    "elif (n2>=80):\n",
    "    print(\"B+\")\n",
    "elif (n2>=75):\n",
    "    print(\"B\")\n",
    "elif (n2>=70):\n",
    "    print(\"B-\")\n",
    "elif (n2>=65):\n",
    "    print(\"C+\")\n",
    "elif (n2>=60):\n",
    "    print(\"C\")\n",
    "elif (n2>=57):\n",
    "    print(\"C-\")\n",
    "elif (n2>=55):\n",
    "    print(\"D+\")\n",
    "elif (n2>=52):\n",
    "    print(\"D-\")\n",
    "elif (n2>=50):\n",
    "    print(\"D-\")\n",
    "elif (n2<50):\n",
    "    print(\"F\")\n",
    "\n",
    "if (n3>=90):\n",
    "    print(\"A\")\n",
    "elif (n3>=85):\n",
    "    print(\"A-\")\n",
    "elif (n3>=80):\n",
    "    print(\"B+\")\n",
    "elif (n3>=75):\n",
    "    print(\"B\")\n",
    "elif (n3>=70):\n",
    "    print(\"B-\")\n",
    "elif (n3>=65):\n",
    "    print(\"C+\")\n",
    "elif (n3>=60):\n",
    "    print(\"C\")\n",
    "elif (n3>=57):\n",
    "    print(\"C-\")\n",
    "elif (n3>=55):\n",
    "    print(\"D+\")\n",
    "elif (n3>=52):\n",
    "    print(\"D-\")\n",
    "elif (n3>=50):\n",
    "    print(\"D-\")\n",
    "elif (n3<50):\n",
    "    print(\"F\")"
   ]
  },
  {
   "cell_type": "code",
   "execution_count": null,
   "metadata": {},
   "outputs": [],
   "source": [
    "n = int(input(\"Enter a number: \"))\n",
    "\n",
    "if n > 1:\n",
    "    for j in range(2, n):\n",
    "        if (n % j) == 0:\n",
    "            print(\"The number is NOT a prime number\")\n",
    "\n",
    "            break\n",
    "    else:\n",
    "        print(\"The number is a prime number\")\n",
    "\n",
    "else:\n",
    "    print(\"The number is NOT a prime number\")"
   ]
  },
  {
   "cell_type": "code",
   "execution_count": null,
   "metadata": {},
   "outputs": [],
   "source": [
    "n = int(input(\"Enter a number: \"))\n",
    "n1 = 0\n",
    "n2 = 1\n",
    "c = 0\n",
    "while c<n:\n",
    "    print(n1)\n",
    "    sum = n1 + n2\n",
    "    n1 = n2\n",
    "    n2 = sum\n",
    "    c += 1"
   ]
  },
  {
   "cell_type": "code",
   "execution_count": null,
   "metadata": {},
   "outputs": [],
   "source": [
    "n = int(input(\"Enter a number: \"))\n",
    "\n",
    "count = 0\n",
    "while(n>0):\n",
    "   count1 = n%10\n",
    "   count = count*10 + count1\n",
    "   n = n // 10\n",
    "print(\"The reverse of the given number is:\",count )"
   ]
  },
  {
   "cell_type": "code",
   "execution_count": null,
   "metadata": {},
   "outputs": [],
   "source": [
    "sum = 0\n",
    "\n",
    "n = int(input(\"Enter a number: \"))\n",
    "for j in range(1,n):\n",
    "    if(n%j==0):\n",
    "        sum=sum+j\n",
    "if sum == n:\n",
    "    print(\"Perfect number.\")\n",
    "elif sum != n:\n",
    "    print(\"Not perfect.\")"
   ]
  },
  {
   "cell_type": "code",
   "execution_count": 2,
   "metadata": {},
   "outputs": [
    {
     "name": "stdout",
     "output_type": "stream",
     "text": [
      "Enter a number:486568475\n",
      "5\n"
     ]
    }
   ],
   "source": [
    "n = input(\"Enter a number:\")\n",
    "n1 = int(n)\n",
    "count=0\n",
    "digit=0\n",
    "\n",
    "while n1>1:\n",
    "     n1/=10\n",
    "     count+=1\n",
    "\n",
    "for i in range(9):\n",
    "    for j in range(count-1):\n",
    "        if i==int(n[j]):\n",
    "            digit+=1\n",
    "            break\n",
    "print(digit)"
   ]
  },
  {
   "cell_type": "code",
   "execution_count": 1,
   "metadata": {},
   "outputs": [
    {
     "name": "stdout",
     "output_type": "stream",
     "text": [
      "Enter a number: 3\n",
      "  *\n",
      " * *\n",
      "*****\n",
      " * *\n",
      "  *\n"
     ]
    }
   ],
   "source": [
    "n=int(input(\"Enter a number: \"))\n",
    "a=0\n",
    "\n",
    "for i in range(1,n) :\n",
    "    for j in range(1,n-i+1) :\n",
    "        print(\" \",end=\"\")\n",
    "    while (a!=(2*i-1)) :\n",
    "        if (a==0 or a==2*i-2) :\n",
    "            print(\"*\",end=\"\")\n",
    "        else:\n",
    "            print(\" \",end=\"\")\n",
    "        a=a+1\n",
    "    a=0\n",
    "    print(\"\"),\n",
    "for i in range(1,2*n):\n",
    "    print(\"*\",end=\"\")\n",
    "print(\"\"),\n",
    "n=n-1\n",
    "for i in range (n,0,-1) :\n",
    "    for j in range(0,n-i+1) :\n",
    "        print(\" \",end=\"\")\n",
    "    a=0\n",
    "    while (a!=(2*i-1)) :\n",
    "        if (a==0 or a==2*i-2) :\n",
    "            print(\"*\",end=\"\")\n",
    "        else :\n",
    "            print(\" \",end=\"\")\n",
    "        a=a+ 1\n",
    "    print(\"\"),\n"
   ]
  },
  {
   "cell_type": "code",
   "execution_count": 1,
   "metadata": {},
   "outputs": [
    {
     "name": "stdout",
     "output_type": "stream",
     "text": [
      "Enter a number: 37\n",
      "7\n"
     ]
    }
   ],
   "source": [
    "n = int(input(\"Enter a number: \"))\n",
    "nBinary = bin(n)\n",
    "nBinary1 = \"\"\n",
    "count = 0\n",
    "for i in nBinary:\n",
    "    count += 1\n",
    "for i in range(2,count):\n",
    "    if nBinary[i] == \"1\":\n",
    "        nBinary1 += \"1\"\n",
    "ans = int(nBinary1,2)\n",
    "print(ans)"
   ]
  }
 ],
 "metadata": {
  "kernelspec": {
   "display_name": "Python 3",
   "language": "python",
   "name": "python3"
  },
  "language_info": {
   "codemirror_mode": {
    "name": "ipython",
    "version": 3
   },
   "file_extension": ".py",
   "mimetype": "text/x-python",
   "name": "python",
   "nbconvert_exporter": "python",
   "pygments_lexer": "ipython3",
   "version": "3.7.6"
  }
 },
 "nbformat": 4,
 "nbformat_minor": 4
}
