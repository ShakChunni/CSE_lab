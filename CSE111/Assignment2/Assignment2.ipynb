{
 "cells": [
  {
   "cell_type": "code",
   "execution_count": 3,
   "metadata": {},
   "outputs": [
    {
     "name": "stdout",
     "output_type": "stream",
     "text": [
      "8\n",
      "3\n",
      "0.7\n"
     ]
    }
   ],
   "source": [
    "# Easy 1\n",
    "\n",
    "\n",
    "import math\n",
    "\n",
    "\n",
    "def fraction(a,b):\n",
    "    if b == 0:\n",
    "        return 0, 0\n",
    "\n",
    "    elif a == 0:\n",
    "        return 0, 0\n",
    "\n",
    "    else:\n",
    "        division = a/b\n",
    "        return math.modf(division)\n",
    "\n",
    "\n",
    "number1 = int(input())\n",
    "number2 = int(input())\n",
    "result = fraction(number1,number2)\n",
    "x,y = result\n",
    "if x == 0 and y == 1:\n",
    "    print('1')\n",
    "else:\n",
    "    print(round(x, 1))"
   ]
  },
  {
   "cell_type": "code",
   "execution_count": null,
   "metadata": {},
   "outputs": [],
   "source": [
    "#Easy 2\n",
    "\n",
    "\n",
    "import math\n",
    "\n",
    "\n",
    "def calculate(weight2,height2):\n",
    "    mainheight = height2 / 100\n",
    "    squareheight = mainheight * mainheight\n",
    "    bmi = weight2 / squareheight\n",
    "    return bmi\n",
    "\n",
    "\n",
    "height1 = int(input())\n",
    "weight1 = int(input())\n",
    "result = calculate(weight1, height1)\n",
    "result=round(result,1)\n",
    "if result < 18.5:\n",
    "    print(f\"Score is {result}. You are UnderWeight\")\n",
    "elif result >= 18.5 and result <= 24.9:\n",
    "    print(f\"Score is {result}. You are Normal\")\n",
    "elif result >= 25 and result <= 30:\n",
    "    print(f\"Score is {result}. You are Overweight\")\n",
    "else:\n",
    "    print(f\"Score is {result}. You are Obese\")\n",
    "\n"
   ]
  },
  {
   "cell_type": "code",
   "execution_count": 4,
   "metadata": {},
   "outputs": [
    {
     "name": "stdout",
     "output_type": "stream",
     "text": [
      "0\n",
      "50\n",
      "9\n",
      "135\n"
     ]
    }
   ],
   "source": [
    "#Easy 3\n",
    "\n",
    "\n",
    "import math\n",
    "\n",
    "\n",
    "def calculate(num1,num2,num3):\n",
    "    summation = 0\n",
    "    start = num3\n",
    "    while start < num2:\n",
    "        if start % num3 == 0:\n",
    "            summation += start\n",
    "        start += num3\n",
    "    return summation\n",
    "\n",
    "\n",
    "minimum = int(input())\n",
    "maximum = int(input())\n",
    "divisor = int(input())\n",
    "result = calculate(minimum,maximum,divisor)\n",
    "print(result)\n"
   ]
  },
  {
   "cell_type": "code",
   "execution_count": 7,
   "metadata": {},
   "outputs": [
    {
     "name": "stdout",
     "output_type": "stream",
     "text": [
      "BBQ Chicken Cheese Burger\n",
      "s\n",
      "330.0\n"
     ]
    }
   ],
   "source": [
    "#Medium 1\n",
    "\n",
    "\n",
    "def total(burger,place='Mohakhali'):\n",
    "    price = 0\n",
    "    if burger == 'BBQ Chicken Cheese Burger':\n",
    "        price += 250\n",
    "    elif burger == 'Beef Burger':\n",
    "        price += 170\n",
    "    else:\n",
    "        price += 200\n",
    "    price = price + (price * .08)\n",
    "    if place == 'Mohakhali' or place == 'mohakhali':\n",
    "        price += 40\n",
    "    else:\n",
    "        price +=60\n",
    "    return price\n",
    "\n",
    "\n",
    "food = input()\n",
    "location = input()\n",
    "if location == '':\n",
    "    final = total(food)\n",
    "else:\n",
    "    final = total(food,location)\n",
    "print(final)"
   ]
  },
  {
   "cell_type": "code",
   "execution_count": 4,
   "metadata": {},
   "outputs": [
    {
     "name": "stdout",
     "output_type": "stream",
     "text": [
      "siam@kaaj.com\n",
      "Changed : siam@sheba.xyz\n"
     ]
    }
   ],
   "source": [
    "# medium 2\n",
    "\n",
    "\n",
    "import math\n",
    "\n",
    "\n",
    "def replace_domain(email,newdomain,olddomain = 'kaaj.com'):\n",
    "    firstname = ''\n",
    "    count = -1\n",
    "    domain_name = ''\n",
    "    final = ''\n",
    "    for item in email:\n",
    "        if item == '@':\n",
    "            firstname += item\n",
    "            count += 1\n",
    "            break\n",
    "        else:\n",
    "            firstname += item\n",
    "            count += 1\n",
    "    total_length = len(email)\n",
    "\n",
    "    start = count+1\n",
    "    while start <= total_length -1:\n",
    "        domain_name += email[start]\n",
    "        start += 1\n",
    "\n",
    "    if domain_name == newdomain :\n",
    "        return f'Unchanged : {firstname}{domain_name}'\n",
    "\n",
    "    else:\n",
    "        return f'Changed : {firstname}{newdomain}'\n",
    "\n",
    "\n",
    "address = input()\n",
    "domain = 'sheba.xyz'\n",
    "result = replace_domain(address,domain)\n",
    "print(result)\n"
   ]
  },
  {
   "cell_type": "code",
   "execution_count": 1,
   "metadata": {},
   "outputs": [
    {
     "name": "stdout",
     "output_type": "stream",
     "text": [
      "ashfaq\n",
      "Vowels: a,a. Total number of vowels: 2\n"
     ]
    }
   ],
   "source": [
    "# medium 3\n",
    "\n",
    "\n",
    "import math\n",
    "\n",
    "\n",
    "def vowel(name):\n",
    "    count = 0\n",
    "    word = 'Vowels: '\n",
    "    for item in name:\n",
    "        if item == 'a' or item == 'e' or item == 'i' or item == 'o' or item == 'u'  or item == 'A' or item == 'E' or item == 'I' or item == 'O' or item == 'U':\n",
    "            word += item\n",
    "            word += ','\n",
    "            count += 1\n",
    "    word2 = ''\n",
    "    start=0\n",
    "    end = len(word) -2\n",
    "    while start <= end:\n",
    "        word2 += word[start]\n",
    "        start += 1\n",
    "\n",
    "    if count == 0:\n",
    "        return 'No vowels in the name'\n",
    "    else:\n",
    "        word2 += f'. Total number of vowels: {count}'\n",
    "        return word2\n",
    "\n",
    "\n",
    "Name = input()\n",
    "result = vowel(Name)\n",
    "print(result)\n"
   ]
  },
  {
   "cell_type": "code",
   "execution_count": 11,
   "metadata": {},
   "outputs": [
    {
     "name": "stdout",
     "output_type": "stream",
     "text": [
      "swagata\n",
      "Not a palindrome\n"
     ]
    }
   ],
   "source": [
    "# medium 4\n",
    "\n",
    "\n",
    "import math\n",
    "\n",
    "stack = []\n",
    "word1 = input()\n",
    "word2 = ''\n",
    "word3 = ''\n",
    "for item in word1:\n",
    "    if item == ' ':\n",
    "        pass\n",
    "    else:\n",
    "        stack.append(item)\n",
    "        word2 += item\n",
    "\n",
    "while len(stack) != 0:\n",
    "    word3 += stack.pop()\n",
    "\n",
    "if word2 == word3:\n",
    "    print('Palindrome')\n",
    "\n",
    "else:\n",
    "    print('Not a palindrome')"
   ]
  },
  {
   "cell_type": "code",
   "execution_count": 6,
   "metadata": {},
   "outputs": [
    {
     "name": "stdout",
     "output_type": "stream",
     "text": [
      "100000\n",
      "273 years, 11 months and 25 days\n"
     ]
    }
   ],
   "source": [
    "# hard 2\n",
    "\n",
    "\n",
    "import math\n",
    "\n",
    "\n",
    "def convert(days):\n",
    "     year = int(days / 365)             \n",
    "     month = int((days % 365) / 30)     \n",
    "     day = int((days % 365) % 30)\n",
    "     return f'{year} years, {month} months and {day} days'\n",
    "\n",
    "\n",
    "total = int(input())\n",
    "result = convert(total)\n",
    "print(result)"
   ]
  },
  {
   "cell_type": "code",
   "execution_count": 1,
   "metadata": {},
   "outputs": [
    {
     "name": "stdout",
     "output_type": "stream",
     "text": [
      "my favourite animal is a dog.a dog has sharp teeth so that it can eat flesh very easily.do you know my pet dog's name?i love my pet very much.\n",
      "My favourite animal is a dog.A dog has sharp teeth so that it can eat flesh very easily.Do you know my pet dog's name?I love my pet very much.\n"
     ]
    }
   ],
   "source": [
    "# hard 3\n",
    "\n",
    "\n",
    "import math\n",
    "\n",
    "\n",
    "def fix(string):\n",
    "     word = ''\n",
    "     word1 = ''\n",
    "     count = 0\n",
    "     for item in string:\n",
    "            if count == 0:\n",
    "               word1 = item.upper()\n",
    "               word += word1\n",
    "               count += 1\n",
    "            elif item == 'i' and string[count+1] == ' ':\n",
    "               word1 = item.upper()\n",
    "               word += word1\n",
    "               count += 1\n",
    "            elif string[count - 1] == '!' or string[count-1] == '.' or string[count-1] == '?':\n",
    "               word1 = item.upper()\n",
    "               word += word1\n",
    "               count += 1\n",
    "            else:\n",
    "               word += item\n",
    "               count += 1\n",
    "            word1 = ''\n",
    "\n",
    "     return word\n",
    "\n",
    "\n",
    "paragraph = input()\n",
    "result = fix(paragraph)\n",
    "print(result)"
   ]
  },
  {
   "cell_type": "code",
   "execution_count": 2,
   "metadata": {},
   "outputs": [
    {
     "name": "stdout",
     "output_type": "stream",
     "text": [
      "If you wanna enter a persons bonus press y,else n : \n",
      "y\n",
      "Alice\n",
      "20000\n",
      "2017-03-21\n",
      "y\n",
      "Bob\n",
      "50000\n",
      "2007-03-21\n",
      "y\n",
      "Siam\n",
      "60000\n",
      "2014-03-21\n",
      "y\n",
      "Naina\n",
      "80000\n",
      "2004-03-21\n",
      "n\n",
      "Alice: 2000 \n",
      "Bob: 22500 \n",
      "Siam: 11000 \n",
      "Naina: 27000 \n"
     ]
    }
   ],
   "source": [
    "\n",
    "# hard 1\n",
    "from datetime import date\n",
    "from datetime import datetime\n",
    "import math\n",
    "\n",
    "\n",
    "def bonus(name, salary, ddate):\n",
    "    listbonus = []\n",
    "    day_previous = ''\n",
    "    month_previous = ''\n",
    "    year_previous = ''\n",
    "    i = 0\n",
    "\n",
    "    first_date = datetime.date(datetime.now())\n",
    "    while len(name) != 0 or len(salary) != 0 or len(ddate) != 0:\n",
    "        current_salary = salary.pop(0)\n",
    "        current_name = name.pop(0)\n",
    "        year_from_list = ddate.pop(0)\n",
    "        while i < 4:\n",
    "            year_previous += year_from_list[i]\n",
    "            i += 1\n",
    "\n",
    "        if year_from_list[5] != 0:\n",
    "            month_previous += year_from_list[5]\n",
    "            month_previous += year_from_list[6]\n",
    "\n",
    "        day_previous += year_from_list[8]\n",
    "        day_previous += year_from_list[9]\n",
    "\n",
    "        main_year = int(year_previous)\n",
    "        main_month = int(month_previous)\n",
    "        main_day = int(day_previous)\n",
    "\n",
    "        last_date = date(main_year, main_month, main_day)\n",
    "        delta = first_date - last_date\n",
    "\n",
    "        if delta.days < 1825:  # assuming per year of 365 days\n",
    "            current_bonus = int(current_salary * .1)\n",
    "            listbonus.append(f'{current_name}: {current_bonus} ')\n",
    "\n",
    "        elif delta.days >= 1825 and delta.days <= 3650:\n",
    "            current_bonus = int((current_salary * .1) + 5000)\n",
    "            listbonus.append(f'{current_name}: {current_bonus} ')\n",
    "\n",
    "        else:\n",
    "            current_bonus = int((current_salary * .15) + 15000)\n",
    "            listbonus.append(f'{current_name}: {current_bonus} ')\n",
    "\n",
    "        i = 0\n",
    "        day_previous = ''\n",
    "        month_previous = ''\n",
    "        year_previous = ''\n",
    "\n",
    "    return listbonus\n",
    "\n",
    "\n",
    "listname = []\n",
    "listsalary = []\n",
    "list_joining_date = []\n",
    "print('If you wanna enter a persons bonus press y,else n : ')\n",
    "while input() == 'y':\n",
    "    name = input()\n",
    "    listname.append(name)\n",
    "    salary = int(input())\n",
    "    listsalary.append(salary)\n",
    "    dddate = input()\n",
    "    list_joining_date.append(dddate)\n",
    "\n",
    "result = bonus(listname, listsalary, list_joining_date)\n",
    "for item in result:\n",
    "    print(item)\n"
   ]
  },
  {
   "cell_type": "code",
   "execution_count": 3,
   "metadata": {},
   "outputs": [
    {
     "ename": "IndentationError",
     "evalue": "unindent does not match any outer indentation level (<tokenize>, line 22)",
     "output_type": "error",
     "traceback": [
      "\u001b[1;36m  File \u001b[1;32m\"<tokenize>\"\u001b[1;36m, line \u001b[1;32m22\u001b[0m\n\u001b[1;33m    else:\u001b[0m\n\u001b[1;37m    ^\u001b[0m\n\u001b[1;31mIndentationError\u001b[0m\u001b[1;31m:\u001b[0m unindent does not match any outer indentation level\n"
     ]
    }
   ],
   "source": [
    "import math\n",
    "def replace_domain(email,newdomain,olddomain = 'kaaj.com'):\n",
    "    firstname = ''\n",
    "    count = -1\n",
    "    domain_name = ''\n",
    "    final = ''\n",
    "    for item in email:\n",
    "        if item == '@':\n",
    "            firstname += item\n",
    "            count += 1\n",
    "            break\n",
    "        else:\n",
    "            firstname += item\n",
    "            count += 1\n",
    "    total_length = len(email)\n",
    "    start = count+1\n",
    "    while start <= total_length -1:\n",
    "        domain_name += email[start]\n",
    "        start += 1\n",
    "    if domain_name==newdomain :\n",
    "        return f'Unchanged : {firstname}{domain_name}'\n",
    "      else:\n",
    "        return f'Changed : {firstname}{newdomain}'\n",
    "\n",
    "address=input(\"Enter your mail address: \")\n",
    "domain='sheba.xyz'\n",
    "a=replace_domain(address,domain)\n",
    "print(a)\n"
   ]
  },
  {
   "cell_type": "code",
   "execution_count": null,
   "metadata": {},
   "outputs": [],
   "source": []
  }
 ],
 "metadata": {
  "kernelspec": {
   "display_name": "Python 3",
   "language": "python",
   "name": "python3"
  },
  "language_info": {
   "codemirror_mode": {
    "name": "ipython",
    "version": 3
   },
   "file_extension": ".py",
   "mimetype": "text/x-python",
   "name": "python",
   "nbconvert_exporter": "python",
   "pygments_lexer": "ipython3",
   "version": "3.7.6"
  }
 },
 "nbformat": 4,
 "nbformat_minor": 4
}
