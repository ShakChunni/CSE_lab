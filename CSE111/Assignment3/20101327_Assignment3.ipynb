{
 "cells": [
  {
   "cell_type": "code",
   "execution_count": 1,
   "metadata": {},
   "outputs": [
    {
     "ename": "KeyboardInterrupt",
     "evalue": "Interrupted by user",
     "output_type": "error",
     "traceback": [
      "\u001b[1;31m---------------------------------------------------------------------------\u001b[0m",
      "\u001b[1;31mKeyboardInterrupt\u001b[0m                         Traceback (most recent call last)",
      "\u001b[1;32md:\\CSE\\CSE111\\Assignment3\\20101327_Assignment3.ipynb Cell 1'\u001b[0m in \u001b[0;36m<cell line: 3>\u001b[1;34m()\u001b[0m\n\u001b[0;32m      <a href='vscode-notebook-cell:/d%3A/CSE/CSE111/Assignment3/20101327_Assignment3.ipynb#ch0000000?line=0'>1</a>\u001b[0m \u001b[39m# easy1\u001b[39;00m\n\u001b[1;32m----> <a href='vscode-notebook-cell:/d%3A/CSE/CSE111/Assignment3/20101327_Assignment3.ipynb#ch0000000?line=2'>3</a>\u001b[0m n1\u001b[39m=\u001b[39m\u001b[39minput\u001b[39;49m(\u001b[39m\"\u001b[39;49m\u001b[39mEnter word: \u001b[39;49m\u001b[39m\"\u001b[39;49m)\n\u001b[0;32m      <a href='vscode-notebook-cell:/d%3A/CSE/CSE111/Assignment3/20101327_Assignment3.ipynb#ch0000000?line=3'>4</a>\u001b[0m \u001b[39mdef\u001b[39;00m \u001b[39mgoat\u001b[39m(n1):\n\u001b[0;32m      <a href='vscode-notebook-cell:/d%3A/CSE/CSE111/Assignment3/20101327_Assignment3.ipynb#ch0000000?line=4'>5</a>\u001b[0m     c\u001b[39m=\u001b[39m\u001b[39m0\u001b[39m\n",
      "File \u001b[1;32mc:\\Users\\Ashfaq\\AppData\\Local\\Programs\\Python\\Python310\\lib\\site-packages\\ipykernel\\kernelbase.py:1159\u001b[0m, in \u001b[0;36mKernel.raw_input\u001b[1;34m(self, prompt)\u001b[0m\n\u001b[0;32m   <a href='file:///c%3A/Users/Ashfaq/AppData/Local/Programs/Python/Python310/lib/site-packages/ipykernel/kernelbase.py?line=1154'>1155</a>\u001b[0m \u001b[39mif\u001b[39;00m \u001b[39mnot\u001b[39;00m \u001b[39mself\u001b[39m\u001b[39m.\u001b[39m_allow_stdin:\n\u001b[0;32m   <a href='file:///c%3A/Users/Ashfaq/AppData/Local/Programs/Python/Python310/lib/site-packages/ipykernel/kernelbase.py?line=1155'>1156</a>\u001b[0m     \u001b[39mraise\u001b[39;00m StdinNotImplementedError(\n\u001b[0;32m   <a href='file:///c%3A/Users/Ashfaq/AppData/Local/Programs/Python/Python310/lib/site-packages/ipykernel/kernelbase.py?line=1156'>1157</a>\u001b[0m         \u001b[39m\"\u001b[39m\u001b[39mraw_input was called, but this frontend does not support input requests.\u001b[39m\u001b[39m\"\u001b[39m\n\u001b[0;32m   <a href='file:///c%3A/Users/Ashfaq/AppData/Local/Programs/Python/Python310/lib/site-packages/ipykernel/kernelbase.py?line=1157'>1158</a>\u001b[0m     )\n\u001b[1;32m-> <a href='file:///c%3A/Users/Ashfaq/AppData/Local/Programs/Python/Python310/lib/site-packages/ipykernel/kernelbase.py?line=1158'>1159</a>\u001b[0m \u001b[39mreturn\u001b[39;00m \u001b[39mself\u001b[39;49m\u001b[39m.\u001b[39;49m_input_request(\n\u001b[0;32m   <a href='file:///c%3A/Users/Ashfaq/AppData/Local/Programs/Python/Python310/lib/site-packages/ipykernel/kernelbase.py?line=1159'>1160</a>\u001b[0m     \u001b[39mstr\u001b[39;49m(prompt),\n\u001b[0;32m   <a href='file:///c%3A/Users/Ashfaq/AppData/Local/Programs/Python/Python310/lib/site-packages/ipykernel/kernelbase.py?line=1160'>1161</a>\u001b[0m     \u001b[39mself\u001b[39;49m\u001b[39m.\u001b[39;49m_parent_ident[\u001b[39m\"\u001b[39;49m\u001b[39mshell\u001b[39;49m\u001b[39m\"\u001b[39;49m],\n\u001b[0;32m   <a href='file:///c%3A/Users/Ashfaq/AppData/Local/Programs/Python/Python310/lib/site-packages/ipykernel/kernelbase.py?line=1161'>1162</a>\u001b[0m     \u001b[39mself\u001b[39;49m\u001b[39m.\u001b[39;49mget_parent(\u001b[39m\"\u001b[39;49m\u001b[39mshell\u001b[39;49m\u001b[39m\"\u001b[39;49m),\n\u001b[0;32m   <a href='file:///c%3A/Users/Ashfaq/AppData/Local/Programs/Python/Python310/lib/site-packages/ipykernel/kernelbase.py?line=1162'>1163</a>\u001b[0m     password\u001b[39m=\u001b[39;49m\u001b[39mFalse\u001b[39;49;00m,\n\u001b[0;32m   <a href='file:///c%3A/Users/Ashfaq/AppData/Local/Programs/Python/Python310/lib/site-packages/ipykernel/kernelbase.py?line=1163'>1164</a>\u001b[0m )\n",
      "File \u001b[1;32mc:\\Users\\Ashfaq\\AppData\\Local\\Programs\\Python\\Python310\\lib\\site-packages\\ipykernel\\kernelbase.py:1201\u001b[0m, in \u001b[0;36mKernel._input_request\u001b[1;34m(self, prompt, ident, parent, password)\u001b[0m\n\u001b[0;32m   <a href='file:///c%3A/Users/Ashfaq/AppData/Local/Programs/Python/Python310/lib/site-packages/ipykernel/kernelbase.py?line=1197'>1198</a>\u001b[0m             \u001b[39mbreak\u001b[39;00m\n\u001b[0;32m   <a href='file:///c%3A/Users/Ashfaq/AppData/Local/Programs/Python/Python310/lib/site-packages/ipykernel/kernelbase.py?line=1198'>1199</a>\u001b[0m \u001b[39mexcept\u001b[39;00m \u001b[39mKeyboardInterrupt\u001b[39;00m:\n\u001b[0;32m   <a href='file:///c%3A/Users/Ashfaq/AppData/Local/Programs/Python/Python310/lib/site-packages/ipykernel/kernelbase.py?line=1199'>1200</a>\u001b[0m     \u001b[39m# re-raise KeyboardInterrupt, to truncate traceback\u001b[39;00m\n\u001b[1;32m-> <a href='file:///c%3A/Users/Ashfaq/AppData/Local/Programs/Python/Python310/lib/site-packages/ipykernel/kernelbase.py?line=1200'>1201</a>\u001b[0m     \u001b[39mraise\u001b[39;00m \u001b[39mKeyboardInterrupt\u001b[39;00m(\u001b[39m\"\u001b[39m\u001b[39mInterrupted by user\u001b[39m\u001b[39m\"\u001b[39m) \u001b[39mfrom\u001b[39;00m \u001b[39mNone\u001b[39m\n\u001b[0;32m   <a href='file:///c%3A/Users/Ashfaq/AppData/Local/Programs/Python/Python310/lib/site-packages/ipykernel/kernelbase.py?line=1201'>1202</a>\u001b[0m \u001b[39mexcept\u001b[39;00m \u001b[39mException\u001b[39;00m:\n\u001b[0;32m   <a href='file:///c%3A/Users/Ashfaq/AppData/Local/Programs/Python/Python310/lib/site-packages/ipykernel/kernelbase.py?line=1202'>1203</a>\u001b[0m     \u001b[39mself\u001b[39m\u001b[39m.\u001b[39mlog\u001b[39m.\u001b[39mwarning(\u001b[39m\"\u001b[39m\u001b[39mInvalid Message:\u001b[39m\u001b[39m\"\u001b[39m, exc_info\u001b[39m=\u001b[39m\u001b[39mTrue\u001b[39;00m)\n",
      "\u001b[1;31mKeyboardInterrupt\u001b[0m: Interrupted by user"
     ]
    }
   ],
   "source": [
    "# easy1\n",
    "\n",
    "n1=input(\"Enter word: \")\n",
    "def goat(n1):\n",
    "    c=0\n",
    "    vowels = (\"A\", \"E\", \"I\", \"O\", \"U\", \"a\", \"e\", \"i\", \"o\", \"u\")\n",
    "    for i in n1:\n",
    "        if i in vowels:\n",
    "            c = c+1\n",
    "            n1 = n1.replace(i, \"\")\n",
    "    return n1+str(c)\n",
    "\n",
    "print(goat(n1))"
   ]
  },
  {
   "cell_type": "code",
   "execution_count": null,
   "metadata": {},
   "outputs": [],
   "source": [
    "#easy2\n",
    "import math\n",
    "\n",
    "n1=input(\"Enter word: \")\n",
    "n2=reversed(n1)\n",
    "if list(n1)==list(n2):\n",
    "    print(\"True\")\n",
    "else:\n",
    "    print(\"False\")"
   ]
  },
  {
   "cell_type": "code",
   "execution_count": null,
   "metadata": {},
   "outputs": [],
   "source": [
    "#easy3\n",
    "\n",
    "def goat(word):\n",
    "    if len(word)<4:\n",
    "        processed_word=word\n",
    "    elif word.endswith(\"ful\"):\n",
    "        processed_word=word+\"ly\"\n",
    "    else:\n",
    "        processed_word=word+\"ful\"\n",
    "    return(processed_word)\n",
    "\n",
    "word=input(\"Enter: \")\n",
    "print(goat(word))"
   ]
  },
  {
   "cell_type": "code",
   "execution_count": null,
   "metadata": {},
   "outputs": [],
   "source": [
    "#medium1\n",
    "\n",
    "n1=input(\"Enter word: \")\n",
    "def goat(n1):\n",
    "    upp=0\n",
    "    low=0\n",
    "    for i in n1:\n",
    "        if i.isupper():\n",
    "            upp+=1\n",
    "        elif i.islower():\n",
    "            low+=1\n",
    "    if upp>low:\n",
    "        n1=n1.upper()\n",
    "    elif upp<=low:\n",
    "        n1=n1.lower()\n",
    "    return n1\n",
    "print(goat(n1))"
   ]
  },
  {
   "cell_type": "code",
   "execution_count": null,
   "metadata": {},
   "outputs": [],
   "source": [
    "#meidum2\n",
    "\n",
    "n1=input(\"Enter: \")\n",
    "def g(n1):\n",
    "    c1=0\n",
    "    c2=0\n",
    "    for i in n1:\n",
    "        if i.isdigit():\n",
    "            c1+=1\n",
    "        elif i.isalpha():\n",
    "            c2+=1\n",
    "    if c1==0 and c2>c1:\n",
    "        n1=\"WORD\"\n",
    "    elif c2==0 and c1>c2:\n",
    "        n1=\"NUMBER\"\n",
    "    elif c2!=0 and c1!=0:\n",
    "        n1=\"MIXED\"\n",
    "    return n1\n",
    "print(g(n1))"
   ]
  },
  {
   "cell_type": "code",
   "execution_count": null,
   "metadata": {},
   "outputs": [],
   "source": [
    "#medium3\n",
    "\n",
    "def slice_capital(word):\n",
    "    for i in range(len(word)):\n",
    "        if word[i].isupper():\n",
    "            first_capital_index=i\n",
    "            break\n",
    "    for i in range(len(word)-1,-1,-1):\n",
    "        if word[i].isupper():\n",
    "            second_capital_index=i\n",
    "            break\n",
    "    if first_capital_index+1==second_capital_index:\n",
    "        processed_word=\"BLANK\"\n",
    "    else:\n",
    "        processed_word=word[first_capital_index+1:second_capital_index]\n",
    "    return (processed_word)\n",
    "\n",
    "print(slice_capital(input(\"Enter a string\\n\")))"
   ]
  },
  {
   "cell_type": "code",
   "execution_count": null,
   "metadata": {},
   "outputs": [],
   "source": [
    "#hard1\n",
    "#from collections import Counter\n",
    "\n",
    "e = ''\n",
    "f = ''\n",
    "n1 = input(\"Enter a word: \")\n",
    "n2 = input(\"Enter a word: \")\n",
    "for i in n2:\n",
    "    if i in n1:\n",
    "        e+=i\n",
    "for j in n1:\n",
    "    if j in n2:\n",
    "        f+=j\n",
    "c= e+f\n",
    "print(c)\n",
    "\n"
   ]
  },
  {
   "cell_type": "code",
   "execution_count": null,
   "metadata": {},
   "outputs": [],
   "source": [
    "#hard2\n",
    "\n",
    "n=input(\"Enter: \")\n",
    "def goat(n):\n",
    "    string1=string2=string_match=\"\"\n",
    "    for i in range(len(n)//3):\n",
    "        string1+=n[i]\n",
    "        string2+=n[-(i+1)]\n",
    "        if string1==string2[::-1]:\n",
    "            string_match=string1\n",
    "    if string_match in n[len(string1):len(n)-len(string1)]:\n",
    "        palindrome_string=string_match\n",
    "    else:\n",
    "        palindrome_string=\"Not a palindrome substring\"\n",
    "    return(palindrome_string)\n",
    "print(goat(n))\n"
   ]
  },
  {
   "cell_type": "code",
   "execution_count": null,
   "metadata": {},
   "outputs": [],
   "source": [
    "#hard3\n",
    "import math\n",
    "\n",
    "n=input(\"Enter your password: \")\n",
    "error=[]\n",
    "if not any(i.isupper() for i in n):\n",
    "    error.append(\"Uppercase character missing\")\n",
    "if not any(i.islower() for i in n):\n",
    "    error.append(\"Lowercase character missing\")\n",
    "if not any(i.isdigit() for i in n):\n",
    "    error.append(\"Digit missing\")\n",
    "if not any((i==\"_\" or i==\"@\" or i==\"#\" or i==\"$\") for i in n):\n",
    "    error.append(\"Special character is missing\")\n",
    "if error:\n",
    "    print(', '.join(error))\n",
    "else:\n",
    "    print(\"OK\")"
   ]
  },
  {
   "cell_type": "code",
   "execution_count": null,
   "metadata": {},
   "outputs": [],
   "source": []
  },
  {
   "cell_type": "code",
   "execution_count": null,
   "metadata": {},
   "outputs": [],
   "source": []
  },
  {
   "cell_type": "code",
   "execution_count": null,
   "metadata": {},
   "outputs": [],
   "source": []
  },
  {
   "cell_type": "code",
   "execution_count": null,
   "metadata": {},
   "outputs": [],
   "source": []
  },
  {
   "cell_type": "code",
   "execution_count": null,
   "metadata": {},
   "outputs": [],
   "source": []
  },
  {
   "cell_type": "code",
   "execution_count": null,
   "metadata": {},
   "outputs": [],
   "source": []
  },
  {
   "cell_type": "code",
   "execution_count": null,
   "metadata": {},
   "outputs": [],
   "source": []
  },
  {
   "cell_type": "code",
   "execution_count": null,
   "metadata": {},
   "outputs": [],
   "source": []
  },
  {
   "cell_type": "code",
   "execution_count": null,
   "metadata": {},
   "outputs": [],
   "source": []
  }
 ],
 "metadata": {
  "interpreter": {
   "hash": "e606246ae6cba4a5df8f6669218f6c3d5ef3e7be1965afee7a6e9958b861692d"
  },
  "kernelspec": {
   "display_name": "Python 3.10.3 64-bit",
   "language": "python",
   "name": "python3"
  },
  "language_info": {
   "codemirror_mode": {
    "name": "ipython",
    "version": 3
   },
   "file_extension": ".py",
   "mimetype": "text/x-python",
   "name": "python",
   "nbconvert_exporter": "python",
   "pygments_lexer": "ipython3",
   "version": "3.10.3"
  }
 },
 "nbformat": 4,
 "nbformat_minor": 4
}
