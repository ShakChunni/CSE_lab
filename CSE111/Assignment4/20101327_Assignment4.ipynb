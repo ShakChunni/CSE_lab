{
 "cells": [
  {
   "cell_type": "code",
   "execution_count": 4,
   "metadata": {
    "scrolled": false
   },
   "outputs": [
    {
     "name": "stdout",
     "output_type": "stream",
     "text": [
      "Enter number 1\n",
      "1\n",
      "Enter number 2\n",
      "2\n",
      "Enter number 3\n",
      "3\n",
      "Enter number 4\n",
      "4\n",
      "Enter number 5\n",
      "5\n",
      "Enter number 6\n",
      "6\n",
      "Enter number 7\n",
      "7\n",
      "Enter number 8\n",
      "8\n",
      "Enter number 9\n",
      "9\n",
      "Enter number 10\n",
      "5\n",
      "5 9 8 7 6 5 4 3 2 1 "
     ]
    }
   ],
   "source": [
    "#easy1\n",
    "\n",
    "def g():\n",
    "    number=[]\n",
    "    for i in range(10):\n",
    "        n=\"Enter number {}\\n\"\n",
    "        print(n.format(i+1),end=(\"\"))\n",
    "        number.append(int(input()))\n",
    "    number.reverse()\n",
    "    for i in range(10):\n",
    "        print(number[i],end=\" \")\n",
    "    return\n",
    "g()"
   ]
  },
  {
   "cell_type": "markdown",
   "metadata": {},
   "source": []
  },
  {
   "cell_type": "code",
   "execution_count": 3,
   "metadata": {},
   "outputs": [
    {
     "name": "stdout",
     "output_type": "stream",
     "text": [
      "Enter some numbers seperated by comma. Ex:1,2,3,4\n",
      "1,2,3,4\n",
      "Enter more numbers seperated by comma. Ex:1,2,3,4\n",
      "1,2,3\n",
      "[1, 2, 3, 1, 2, 3]\n"
     ]
    }
   ],
   "source": [
    "#easy2\n",
    "\n",
    "def g():\n",
    "    in_1=input(\"Enter some numbers seperated by comma. Ex:1,2,3,4\\n\")\n",
    "    in_2=input(\"Enter more numbers seperated by comma. Ex:1,2,3,4\\n\")\n",
    "    list_1=in_1.split(\",\")\n",
    "    list_2=in_2.split(\",\")\n",
    "    for i in range(len(list_1)):\n",
    "        list_1[i]=int(list_1[i])\n",
    "    for i in range(len(list_2)):\n",
    "        list_2[i]=int(list_2[i])\n",
    "    list_out=list_1[:len(list_1)-1]+list_2[:len(list_2)]\n",
    "    print(list_out)\n",
    "    return\n",
    "g()"
   ]
  },
  {
   "cell_type": "code",
   "execution_count": 7,
   "metadata": {},
   "outputs": [
    {
     "name": "stdout",
     "output_type": "stream",
     "text": [
      "Enter a number: 1\n",
      "1\n",
      "Enter a number: 2\n",
      "2\n",
      "Enter a number: 3\n",
      "3\n",
      "Enter a number: 4\n",
      "4\n",
      "Enter a number: 5\n",
      "5\n",
      "Enter a number: 6\n",
      "6\n",
      "Enter a number: 7\n",
      "7\n",
      "Enter a number: 8\n",
      "8\n",
      "Enter a number: 9\n",
      "9\n",
      "Enter a number: 10\n",
      "4\n",
      "Enter a number: 10\n",
      "5\n",
      "Enter a number: 10\n",
      "6\n",
      "Enter a number: 10\n",
      "4\n",
      "Enter a number: 10\n",
      "8\n",
      "Enter a number: 10\n",
      "\n"
     ]
    },
    {
     "ename": "ValueError",
     "evalue": "invalid literal for int() with base 10: ''",
     "output_type": "error",
     "traceback": [
      "\u001b[1;31m---------------------------------------------------------------------------\u001b[0m",
      "\u001b[1;31mValueError\u001b[0m                                Traceback (most recent call last)",
      "\u001b[1;32m<ipython-input-7-8c8cec1cca3b>\u001b[0m in \u001b[0;36m<module>\u001b[1;34m\u001b[0m\n\u001b[0;32m     11\u001b[0m     \u001b[0mprint\u001b[0m\u001b[1;33m(\u001b[0m\u001b[0mn\u001b[0m\u001b[1;33m)\u001b[0m\u001b[1;33m\u001b[0m\u001b[1;33m\u001b[0m\u001b[0m\n\u001b[0;32m     12\u001b[0m     \u001b[1;32mreturn\u001b[0m\u001b[1;33m\u001b[0m\u001b[1;33m\u001b[0m\u001b[0m\n\u001b[1;32m---> 13\u001b[1;33m \u001b[0mg\u001b[0m\u001b[1;33m(\u001b[0m\u001b[1;33m)\u001b[0m\u001b[1;33m\u001b[0m\u001b[1;33m\u001b[0m\u001b[0m\n\u001b[0m",
      "\u001b[1;32m<ipython-input-7-8c8cec1cca3b>\u001b[0m in \u001b[0;36mg\u001b[1;34m()\u001b[0m\n\u001b[0;32m      7\u001b[0m         \u001b[1;32mif\u001b[0m \u001b[0mx\u001b[0m \u001b[1;32min\u001b[0m \u001b[0mn\u001b[0m\u001b[1;33m:\u001b[0m\u001b[1;33m\u001b[0m\u001b[1;33m\u001b[0m\u001b[0m\n\u001b[0;32m      8\u001b[0m             \u001b[1;32mwhile\u001b[0m \u001b[0mx\u001b[0m \u001b[1;32min\u001b[0m \u001b[0mn\u001b[0m\u001b[1;33m:\u001b[0m\u001b[1;33m\u001b[0m\u001b[1;33m\u001b[0m\u001b[0m\n\u001b[1;32m----> 9\u001b[1;33m                 \u001b[0mx\u001b[0m\u001b[1;33m=\u001b[0m\u001b[0mint\u001b[0m\u001b[1;33m(\u001b[0m\u001b[0minput\u001b[0m\u001b[1;33m(\u001b[0m\u001b[1;34m\"Enter a number: \"\u001b[0m\u001b[1;33m+\u001b[0m\u001b[0mstr\u001b[0m\u001b[1;33m(\u001b[0m\u001b[0mi\u001b[0m\u001b[1;33m+\u001b[0m\u001b[1;36m1\u001b[0m\u001b[1;33m)\u001b[0m\u001b[1;33m+\u001b[0m\u001b[1;34m\"\\n\"\u001b[0m\u001b[1;33m)\u001b[0m\u001b[1;33m)\u001b[0m\u001b[1;33m\u001b[0m\u001b[1;33m\u001b[0m\u001b[0m\n\u001b[0m\u001b[0;32m     10\u001b[0m         \u001b[0mn\u001b[0m\u001b[1;33m.\u001b[0m\u001b[0mappend\u001b[0m\u001b[1;33m(\u001b[0m\u001b[0mx\u001b[0m\u001b[1;33m)\u001b[0m\u001b[1;33m\u001b[0m\u001b[1;33m\u001b[0m\u001b[0m\n\u001b[0;32m     11\u001b[0m     \u001b[0mprint\u001b[0m\u001b[1;33m(\u001b[0m\u001b[0mn\u001b[0m\u001b[1;33m)\u001b[0m\u001b[1;33m\u001b[0m\u001b[1;33m\u001b[0m\u001b[0m\n",
      "\u001b[1;31mValueError\u001b[0m: invalid literal for int() with base 10: ''"
     ]
    }
   ],
   "source": [
    "#easy3\n",
    "\n",
    "def g():\n",
    "    n=[]\n",
    "    for i in range(10):\n",
    "        x=int(input(\"Enter a number: \"+str(i+1)+\"\\n\"))\n",
    "        if x in n:\n",
    "            while x in n:\n",
    "                x=int(input(\"Enter a number: \"+str(i+1)+\"\\n\"))\n",
    "        n.append(x)\n",
    "    print(n)\n",
    "    return\n",
    "g()"
   ]
  },
  {
   "cell_type": "code",
   "execution_count": null,
   "metadata": {},
   "outputs": [],
   "source": [
    "#medium1\n",
    "\n",
    "def g():\n",
    "    num=unique_num=[]\n",
    "    unique_num=[]\n",
    "    \n",
    "    while True:\n",
    "        x=input(\"Enter number or enter STOP to start checking\\n\")\n",
    "        if x==\"STOP\":\n",
    "            break\n",
    "        else:\n",
    "            num.append(x)\n",
    "    for i in range(len(num)):\n",
    "        if num[i] not in unique_num:\n",
    "            unique_num.append(num[i])\n",
    "    for i in unique_num:\n",
    "        print(str(i)+\" - \"+str(num.count(i))+\" times\")\n",
    "    return\n",
    "\n",
    "g()"
   ]
  },
  {
   "cell_type": "code",
   "execution_count": null,
   "metadata": {},
   "outputs": [],
   "source": [
    "#medium2\n",
    "\n",
    "def g():\n",
    "    num_of_list=int(input(\"How many list?\\n\"))\n",
    "    list_in=max_sum_list=[]\n",
    "    max_sum=0\n",
    "    for i in range(num_of_list):\n",
    "        list_sum=0\n",
    "        list_in=input(\"Enter list \"+str(i+1)+\" elements seperated by space. Ex 1 2 3 4\\n\").split(\" \")\n",
    "        for j in range(len(list_in)):\n",
    "            list_in[j]=int(list_in[j])\n",
    "        for j in list_in:\n",
    "            list_sum+=j\n",
    "        if list_sum>max_sum:\n",
    "            max_sum=list_sum\n",
    "            max_sum_list=list_in\n",
    "    print(max_sum)\n",
    "    print(max_sum_list)\n",
    "    return\n",
    "\n",
    "g()"
   ]
  },
  {
   "cell_type": "code",
   "execution_count": null,
   "metadata": {},
   "outputs": [],
   "source": [
    "#medium3\n",
    "\n",
    "def g(list1,list2):\n",
    "    sol=[]\n",
    "    for i in list1:\n",
    "        for j in list2:\n",
    "            sol.append(i*j)\n",
    "    return(sol)\n",
    "\n",
    "list_1=list(input(\"1st list seperated by space. ex:1 2 3 4\\n\").split(\" \"))\n",
    "list_2=list(input(\"2nd list seperated by space. ex:1 2 3 4\\n\").split(\" \"))\n",
    "for i in range(len(list_1)):\n",
    "    list_1[i]=int(list_1[i])\n",
    "for i in range(len(list_2)):\n",
    "    list_2[i]=int(list_2[i])\n",
    "print(g(list_1, list_2))"
   ]
  },
  {
   "cell_type": "code",
   "execution_count": null,
   "metadata": {},
   "outputs": [],
   "source": [
    "#medium4\n",
    "\n",
    "def g(split_index,list_in):\n",
    "    sol_list=all_sol=[]\n",
    "    for i in range(0,split_index):\n",
    "        sol_list=[]\n",
    "        for j in range(i,len(list_in),split_index):\n",
    "            sol_list.append(list_in[j])\n",
    "        all_sol.append(sol_list)\n",
    "    return(all_sol)\n",
    "\n",
    "split_index=int(input(\"Split after every nth\\n\"))\n",
    "list_in=input(\"Enter the elements seperated by comma. Ex:a,b,c,d\\n\").split(\",\")\n",
    "print(g(split_index,list_in))"
   ]
  },
  {
   "cell_type": "code",
   "execution_count": null,
   "metadata": {},
   "outputs": [],
   "source": [
    "#hard1\n",
    "\n",
    "def g(list_in):\n",
    "    abs_diff=[]\n",
    "    for i in range(len(list_in)-1):\n",
    "        abs_diff.append(abs(list_in[i]-list_in[i+1]))\n",
    "    abs_diff.sort()\n",
    "    ub_jumper_diff=[]\n",
    "    for i in range(len(list_in)-1):\n",
    "        ub_jumper_diff.append(i+1)\n",
    "    if abs_diff==ub_jumper_diff:\n",
    "        return_message=\"UB Jumper\"\n",
    "    else:\n",
    "        return_message=\"Not UB Jumper\"\n",
    "    return(return_message)\n",
    "\n",
    "def g1():\n",
    "    list_in=[]\n",
    "    while True:\n",
    "        string_in=input(\"Enter a list (elements seperated by space)(ex 1 2 3 4) to check UB Jumper or enter STOP to exit\\n\")\n",
    "        if string_in==\"STOP\":\n",
    "            break\n",
    "        list_in=string_in.split(\" \")\n",
    "        for i in range(len(list_in)):\n",
    "            list_in[i]=int(list_in[i])\n",
    "        print(ub_jumper_check(list_in))\n",
    "    return\n",
    "\n",
    "g1()"
   ]
  },
  {
   "cell_type": "code",
   "execution_count": null,
   "metadata": {},
   "outputs": [],
   "source": [
    "#hard2\n",
    "\n",
    "def cond_sort(string_in):\n",
    "    lower = []\n",
    "    upper = []\n",
    "    digit_odd = []\n",
    "    digit_even = []\n",
    "    result=\"\"\n",
    "    for i in string_in:\n",
    "        if i.islower():\n",
    "            lower.append(i)\n",
    "            lower.sort()\n",
    "        elif i.isupper():\n",
    "            upper.append(i)\n",
    "            upper.sort()\n",
    "        elif i.isdigit() and int(i) % 2 == 1:\n",
    "            digit_odd.append(i)\n",
    "            digit_odd.sort()\n",
    "        elif i.isdigit() and int(i) % 2 == 0:\n",
    "            digit_even.append(i)\n",
    "            digit_even.sort()\n",
    "    result_list = lower + upper + digit_odd + digit_even\n",
    "    for i in result_list:\n",
    "        result+=str(i)\n",
    "    return(result)\n",
    "\n",
    "string_in=input(\"Enter a string\\n\")\n",
    "print(cond_sort(string_in))"
   ]
  },
  {
   "cell_type": "code",
   "execution_count": null,
   "metadata": {},
   "outputs": [],
   "source": [
    "#hard3\n",
    "\n",
    "def num_team(n,k):\n",
    "    while True:\n",
    "        print(\"Enter the participation history of\",n,\"members. Seperated by space, ex. 1 2 3 4\",end=\"\")\n",
    "        participation_num=list(map(int,input().split()))\n",
    "        if len(participation_num)==n:\n",
    "            new_participation_num=[]\n",
    "            for i in range(n):\n",
    "                total_participation=participation_num[i]+k\n",
    "                if total_participation<=5:\n",
    "                    new_participation_num.append(participation_num[i])\n",
    "            result=len(new_participation_num)//3\n",
    "            break\n",
    "        else:\n",
    "            print(\"Invalid Input. Number of history of the partcipants exceeds the value entered before\")\n",
    "            continue\n",
    "    return(result)\n",
    "    \n",
    "n,k=map(int,input(\"Enter participant number and number of time same team to participate. Seperated by space, ex. 5 2\\n\").split())\n",
    "print(num_team(n, k))"
   ]
  }
 ],
 "metadata": {
  "kernelspec": {
   "display_name": "Python 3",
   "language": "python",
   "name": "python3"
  },
  "language_info": {
   "codemirror_mode": {
    "name": "ipython",
    "version": 3
   },
   "file_extension": ".py",
   "mimetype": "text/x-python",
   "name": "python",
   "nbconvert_exporter": "python",
   "pygments_lexer": "ipython3",
   "version": "3.7.6"
  }
 },
 "nbformat": 4,
 "nbformat_minor": 4
}
