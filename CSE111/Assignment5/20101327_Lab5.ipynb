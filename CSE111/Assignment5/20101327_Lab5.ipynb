{
 "cells": [
  {
   "cell_type": "code",
   "execution_count": 3,
   "metadata": {},
   "outputs": [
    {
     "name": "stdout",
     "output_type": "stream",
     "text": [
      "Integer\n",
      "1234\n",
      "=====================\n",
      "String\n",
      "Hello\n",
      "=====================\n",
      "Float\n",
      "4.0\n"
     ]
    }
   ],
   "source": [
    "#question1\n",
    "\n",
    "class DataType:\n",
    "    def __init__(self,n1,n2):\n",
    "        self.name=n1\n",
    "        self.value=n2\n",
    "data_type1 = DataType('Integer', 1234)\n",
    "print(data_type1.name)\n",
    "print(data_type1.value)\n",
    "print('=====================')\n",
    "data_type2 = DataType('String', 'Hello')\n",
    "print(data_type2.name)\n",
    "print(data_type2.value)\n",
    "print('=====================')\n",
    "data_type3 = DataType('Float', 4.0)\n",
    "print(data_type3.name)\n",
    "print(data_type3.value)\n"
   ]
  },
  {
   "cell_type": "code",
   "execution_count": 4,
   "metadata": {},
   "outputs": [
    {
     "name": "stdout",
     "output_type": "stream",
     "text": [
      "Name of this flower: Rose\n",
      "Color of this flower: Red\n",
      "Number of petal: 6\n",
      "=====================\n",
      "Name of this flower: Orchid\n",
      "Color of this flower: Purple\n",
      "Number of petal: 4\n",
      "Flower 1 address is:  <__main__.Flower object at 0x0000021CC0EEAEC8>\n",
      "Flower 2 address is:  <__main__.Flower object at 0x0000021CC0EEA288>\n",
      "they are diffrent\n"
     ]
    }
   ],
   "source": [
    "#question2\n",
    "\n",
    "class Flower:\n",
    "    pass\n",
    "    #def __init__(self,n1,n2,n3):\n",
    "        #self.name=n1\n",
    "        #self.color=n2\n",
    "        #self.num_of_petal=n3\n",
    "flower1 = Flower();\n",
    "flower1.name=\"Rose\"\n",
    "flower1.color=\"Red\"\n",
    "flower1.num_of_petal=6\n",
    "print(\"Name of this flower:\", flower1.name)\n",
    "print(\"Color of this flower:\",flower1.color)\n",
    "print(\"Number of petal:\",flower1.num_of_petal)\n",
    "print('=====================')\n",
    "flower2 = Flower()\n",
    "flower2.name=\"Orchid\"\n",
    "flower2.color=\"Purple\"\n",
    "flower2.num_of_petal=4\n",
    "print(\"Name of this flower:\",flower2.name)\n",
    "print(\"Color of this flower:\",flower2.color)\n",
    "print (\"Number of petal:\",flower2. num_of_petal)\n",
    "\n",
    "\n",
    "print(\"Flower 1 address is: \",flower1)\n",
    "print(\"Flower 2 address is: \",flower2)\n",
    "if(flower1==flower2):\n",
    "    print(\"they are same\")\n",
    "elif(flower1!=flower2):\n",
    "    print(\"they are diffrent\")"
   ]
  },
  {
   "cell_type": "code",
   "execution_count": 5,
   "metadata": {},
   "outputs": [
    {
     "name": "stdout",
     "output_type": "stream",
     "text": [
      "Part 1:\n",
      "Name of President: Aladeen\n",
      "Designation: President Prime Minister Admiral General\n",
      "Number of wife: 100\n",
      "Is he/she a dictator: True\n",
      "Part 2:\n",
      "Name of President: Donald Trump\n",
      "Designation: President\n",
      "Number of wife: 1\n",
      "Is he/she a dictator: False\n",
      "No, changing had no effect on previous value\n"
     ]
    }
   ],
   "source": [
    "#question3\n",
    "\n",
    "class Wadiya():\n",
    "    def __init__(self):\n",
    "        self.name = 'Aladeen'\n",
    "        self.designation = 'President Prime Minister Admiral General'\n",
    "        self.num_of_wife = 100\n",
    "        self.dictator = True\n",
    "wadiya=Wadiya()\n",
    "wadiya.name=\"Aladeen\"\n",
    "wadiya.designation=\"President Prime Minister Admiral General\"\n",
    "wadiya.num_of_wife=100\n",
    "wadiya.dictator=True\n",
    "print(\"Part 1:\")\n",
    "print(\"Name of President:\", wadiya.name)\n",
    "print(\"Designation:\", wadiya.designation)\n",
    "print(\"Number of wife:\", wadiya.num_of_wife)\n",
    "print(\"Is he/she a dictator:\", wadiya.dictator)\n",
    "wadiya.name=\"Donald Trump\"\n",
    "wadiya.designation=\"President\"\n",
    "wadiya.num_of_wife=1\n",
    "wadiya.dictator=False\n",
    "print(\"Part 2:\")\n",
    "print(\"Name of President:\", wadiya.name)\n",
    "print(\"Designation:\", wadiya.designation)\n",
    "print(\"Number of wife:\", wadiya.num_of_wife)\n",
    "print(\"Is he/she a dictator:\", wadiya.dictator)\n",
    "\n",
    "print(\"No, changing had no effect on previous value\")"
   ]
  },
  {
   "cell_type": "code",
   "execution_count": 2,
   "metadata": {},
   "outputs": [
    {
     "name": "stdout",
     "output_type": "stream",
     "text": [
      "Heath Ledger\n",
      "Mind Game\n",
      "False\n",
      "=====================\n",
      "Joaquin Phoenix\n",
      "Laughing out Loud\n",
      "True\n",
      "=====================\n",
      "different\n",
      "same\n"
     ]
    }
   ],
   "source": [
    "#question4\n",
    "\n",
    "class Joker:\n",
    "    def __init__(self,n1,n2,n3):\n",
    "        self.name=n1\n",
    "        self.power=n2\n",
    "        self.is_he_psycho=n3\n",
    "j1 = Joker('Heath Ledger', 'Mind Game', False)\n",
    "print(j1.name)\n",
    "print(j1.power)\n",
    "print(j1.is_he_psycho)\n",
    "print(\"=====================\")\n",
    "j2 = Joker('Joaquin Phoenix', 'Laughing out Loud', True)\n",
    "print(j2.name)\n",
    "print(j2.power)\n",
    "print(j2.is_he_psycho)\n",
    "print(\"=====================\")\n",
    "if j1 == j2:\n",
    "    print('same')\n",
    "else:\n",
    "    print('different')\n",
    "j2.name = 'Heath Ledger'\n",
    "if j1.name == j2.name:\n",
    "    print('same')\n",
    "else:\n",
    "    print('different')\n"
   ]
  },
  {
   "cell_type": "code",
   "execution_count": 1,
   "metadata": {},
   "outputs": [
    {
     "name": "stdout",
     "output_type": "stream",
     "text": [
      "=======Team 1=======\n",
      "Pokemon 1: pikachu 90\n",
      "Pokemon 2: charmander 60\n",
      "Combined Power: 1500\n",
      "=======Team 2=======\n",
      "Pokemon1: bulbasaur 80\n",
      "Pokemon2: squirtle 70\n",
      "Combined Power: 1350\n"
     ]
    }
   ],
   "source": [
    "#question5\n",
    "\n",
    "class Pokemon:\n",
    "    def __init__(self,n1,n2,n3,n4,n5):\n",
    "        self.pokemon1_name=n1\n",
    "        self.pokemon2_name=n2\n",
    "        self.pokemon1_power=n3\n",
    "        self.pokemon2_power=n4\n",
    "        self.damage_rate=n5\n",
    "\n",
    "team_pika = Pokemon('pikachu', 'charmander', 90, 60, 10)\n",
    "print('=======Team 1=======')\n",
    "print('Pokemon 1:',team_pika.pokemon1_name,\n",
    "team_pika.pokemon1_power)\n",
    "print('Pokemon 2:',team_pika.pokemon2_name,\n",
    "team_pika.pokemon2_power)\n",
    "pika_combined_power = (team_pika.pokemon1_power +\n",
    "team_pika.pokemon2_power) * team_pika.damage_rate\n",
    "print('Combined Power:', pika_combined_power)\n",
    "\n",
    "team_bulb=Pokemon(\"bulbasaur\",\"squirtle\",80,70,9)\n",
    "print(\"=======Team 2=======\")\n",
    "print(\"Pokemon1:\", team_bulb.pokemon1_name, team_bulb.pokemon1_power)\n",
    "print(\"Pokemon2:\", team_bulb.pokemon2_name, team_bulb.pokemon2_power)\n",
    "bulb_combined_power=(team_bulb.pokemon1_power+team_bulb.pokemon2_power)*team_bulb.damage_rate\n",
    "print(\"Combined Power:\", bulb_combined_power)\n"
   ]
  },
  {
   "cell_type": "code",
   "execution_count": null,
   "metadata": {},
   "outputs": [],
   "source": []
  }
 ],
 "metadata": {
  "kernelspec": {
   "display_name": "Python 3",
   "language": "python",
   "name": "python3"
  },
  "language_info": {
   "codemirror_mode": {
    "name": "ipython",
    "version": 3
   },
   "file_extension": ".py",
   "mimetype": "text/x-python",
   "name": "python",
   "nbconvert_exporter": "python",
   "pygments_lexer": "ipython3",
   "version": "3.7.6"
  }
 },
 "nbformat": 4,
 "nbformat_minor": 4
}
