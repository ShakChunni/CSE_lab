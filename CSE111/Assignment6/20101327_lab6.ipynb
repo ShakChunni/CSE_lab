{
 "cells": [
  {
   "cell_type": "code",
   "execution_count": 1,
   "metadata": {},
   "outputs": [
    {
     "name": "stdout",
     "output_type": "stream",
     "text": [
      "Enter 1st number\n",
      "12\n",
      "Enter operation to perform (+,-,*,/)\n",
      "/\n",
      "Enter 2nd number\n",
      "5\n",
      "Lets Calculate!\n",
      "Value 1: 12\n",
      "Operator: /\n",
      "Value 2: 5\n",
      "Result: 2.4\n"
     ]
    }
   ],
   "source": [
    "#question1\n",
    "\n",
    "class Calculator:\n",
    "    def __init__(self,value1, operator, value2):\n",
    "        print(\"Lets Calculate!\")\n",
    "        self.value1=value1\n",
    "        self.operator=operator\n",
    "        self.value2=value2\n",
    "        print(\"Value 1:\",value1)\n",
    "        print(\"Operator:\",operator)\n",
    "        print(\"Value 2:\",value2)\n",
    "        if operator==\"+\":\n",
    "            print(\"Result:\",self.add(value1, value2))\n",
    "        elif operator==\"-\":\n",
    "            print(\"Result:\",self.subtract(value1, value2))\n",
    "        elif operator==\"*\":\n",
    "            print(\"Result:\",self.multiply(value1, value2))\n",
    "        elif operator==\"/\":\n",
    "            print(\"Result:\",self.divide(value1, value2))\n",
    "        else:\n",
    "            print(\"Operation not supported\")\n",
    "\n",
    "    def add(self,value1,value2):\n",
    "        return value1+value2\n",
    "    def subtract(self,value1,value2):\n",
    "        return value1-value2\n",
    "    def multiply(self,value1,value2):\n",
    "        return value1*value2\n",
    "    def divide(self,value1,value2):\n",
    "        try:\n",
    "            return value1/value2\n",
    "        except ZeroDivisionError:\n",
    "            return \"Give a non zero value\"\n",
    "\n",
    "value1 = int(input(\"Enter 1st number\\n\"))\n",
    "operator = input(\"Enter operation to perform (+,-,*,/)\\n\")\n",
    "value2 = int(input(\"Enter 2nd number\\n\"))\n",
    "cal = Calculator(value1,operator,value2)"
   ]
  },
  {
   "cell_type": "code",
   "execution_count": 4,
   "metadata": {},
   "outputs": [
    {
     "name": "stdout",
     "output_type": "stream",
     "text": [
      "Hello!\n",
      "Sam You purchased 3 items:\n",
      "chips\n",
      "chocolate\n",
      "orange juice\n",
      "-----------------------------\n",
      "Hello David !\n",
      "David You purchased 1 items:\n",
      "orange juice\n"
     ]
    }
   ],
   "source": [
    "#question2\n",
    "\n",
    "class Customer:\n",
    "    def __init__(self,name):\n",
    "        self.name=name\n",
    "        \n",
    "    def greet(self,name=None):\n",
    "        if name==None:\n",
    "            print(\"Hello!\")\n",
    "        else:\n",
    "            print(\"Hello\",name,\"!\")\n",
    "    def purchase(self,*product):\n",
    "            print(self.name,\"You purchased\",len(product),\"items:\")\n",
    "            for i in product:\n",
    "                print(i)\n",
    "                \n",
    "\n",
    "\n",
    "customer_1 = Customer(\"Sam\")\n",
    "customer_1.greet()\n",
    "customer_1.purchase(\"chips\", \"chocolate\", \"orange juice\")\n",
    "print(\"-----------------------------\")\n",
    "customer_2 = Customer(\"David\")\n",
    "customer_2.greet(\"David\")\n",
    "customer_2.purchase(\"orange juice\")"
   ]
  },
  {
   "cell_type": "code",
   "execution_count": 5,
   "metadata": {},
   "outputs": [
    {
     "name": "stdout",
     "output_type": "stream",
     "text": [
      "Kunfu is a Male Panda Bear who is 5 years old\n",
      "Pan Pan is a Female Panda Bear who is 3 years old\n",
      "Ming Ming is a Female Panda Bear who is 8 years old\n",
      "Pan Pan sleeps 10 hours daily and should have Broccoli Chicken\n",
      "Kunfu sleeps 4 hours daily and should have Mixed Veggies\n",
      "Ming Ming's duration is unknown thus should have only bamboo leaves\n"
     ]
    }
   ],
   "source": [
    "#question3\n",
    "\n",
    "class Panda():\n",
    "    def __init__(self, name, gender, age):\n",
    "        self.name=name\n",
    "        self.gender=gender\n",
    "        self.age=age\n",
    "\n",
    "    def sleep(self,d_sleep=None):\n",
    "        if d_sleep==None:\n",
    "            return(\"{}'s duration is unknown thus should have only bamboo leaves\".format(self.name))\n",
    "        elif 3<=d_sleep<=5:\n",
    "            return(\"{} sleeps {} hours daily and should have Mixed Veggies\".format(self.name,d_sleep))\n",
    "        elif 6<=d_sleep<=8:\n",
    "            return(\"{} sleeps {} hours daily and should have Eggplant & Tofu\".format(self.name,d_sleep))\n",
    "        elif 9<=d_sleep<=11:\n",
    "            return(\"{} sleeps {} hours daily and should have Broccoli Chicken\".format(self.name,d_sleep))\n",
    "        \n",
    "        \n",
    "        \n",
    "\n",
    "panda1 = Panda(\"Kunfu\",\"Male\", 5)\n",
    "panda2=Panda(\"Pan Pan\",\"Female\",3)\n",
    "panda3=Panda(\"Ming Ming\",\"Female\",8)\n",
    "\n",
    "print(\"{} is a {} Panda Bear who is {} years old\".format(panda1.name,panda1.gender,panda1.age))\n",
    "\n",
    "print(\"{} is a {} Panda Bear who is {} years old\".format(panda2.name,panda2.gender,panda2.age))\n",
    "\n",
    "print(\"{} is a {} Panda Bear who is {} years old\".format(panda3.name,panda3.gender,panda3.age))\n",
    "\n",
    "print(panda2.sleep(10))\n",
    "print(panda1.sleep(4))\n",
    "print(panda3.sleep())\n"
   ]
  },
  {
   "cell_type": "code",
   "execution_count": 6,
   "metadata": {},
   "outputs": [
    {
     "name": "stdout",
     "output_type": "stream",
     "text": [
      "White cat is sitting\n",
      "Black cat is sitting\n",
      "Brown cat is jumping\n",
      "Red cat is purring\n",
      "Blue cat is sitting\n",
      "Purple cat is jumping\n"
     ]
    }
   ],
   "source": [
    "#question4 \n",
    "\n",
    "class Cat:\n",
    "    def __init__(self,color=\"White\",activity=\"sitting\"):\n",
    "        self.activity=activity\n",
    "        self.color=color\n",
    "    \n",
    "    def changeColor(self,newcolor):\n",
    "        self.color=newcolor\n",
    "    def printCat(self):\n",
    "        print(\"{} cat is {}\".format(self.color,self.activity))\n",
    "\n",
    "\n",
    "c1 = Cat()\n",
    "c2 = Cat(\"Black\")\n",
    "c3 = Cat(\"Brown\", \"jumping\")\n",
    "c4 = Cat(\"Red\", \"purring\")\n",
    "c1.printCat()\n",
    "c2.printCat()\n",
    "c3.printCat()\n",
    "c4.printCat()\n",
    "c1.changeColor(\"Blue\")\n",
    "c3.changeColor(\"Purple\")\n",
    "c1.printCat()\n",
    "c3.printCat()"
   ]
  },
  {
   "cell_type": "code",
   "execution_count": 3,
   "metadata": {},
   "outputs": [
    {
     "name": "stdout",
     "output_type": "stream",
     "text": [
      "(0, 0)\n",
      "(0, 1)\n",
      "(-1, 1)\n",
      "(-1, 0)\n"
     ]
    }
   ],
   "source": [
    "#ques5\n",
    "\n",
    "class Vehicle:\n",
    "    def __init__(self):\n",
    "        self.position=[0,0]\n",
    "    def moveUp(self):\n",
    "        self.position[1]+=1\n",
    "    def moveDown(self):\n",
    "        self.position[1]-=1\n",
    "    def moveLeft(self):\n",
    "        self.position[0]-=1\n",
    "    def moveRight(self):\n",
    "        self.position[0]+=1\n",
    "    def print_position(self):\n",
    "        print(tuple(self.position))\n",
    "\n",
    "\n",
    "car = Vehicle()\n",
    "car.print_position()\n",
    "car.moveUp()\n",
    "car.print_position()\n",
    "car.moveLeft()\n",
    "car.print_position()\n",
    "car.moveDown()\n",
    "car.print_position()\n",
    "car.moveRight()"
   ]
  }
 ],
 "metadata": {
  "kernelspec": {
   "display_name": "Python 3",
   "language": "python",
   "name": "python3"
  },
  "language_info": {
   "codemirror_mode": {
    "name": "ipython",
    "version": 3
   },
   "file_extension": ".py",
   "mimetype": "text/x-python",
   "name": "python",
   "nbconvert_exporter": "python",
   "pygments_lexer": "ipython3",
   "version": "3.7.6"
  }
 },
 "nbformat": 4,
 "nbformat_minor": 4
}
