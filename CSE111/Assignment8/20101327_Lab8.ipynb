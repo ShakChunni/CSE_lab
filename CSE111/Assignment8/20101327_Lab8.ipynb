{
 "cells": [
  {
   "cell_type": "code",
   "execution_count": 5,
   "metadata": {},
   "outputs": [
    {
     "name": "stdout",
     "output_type": "stream",
     "text": [
      "Name: dafault Department: BBA\n",
      "Name: Humpty Dumpty Department: BBA\n",
      "Name: Little Bo Peep Department: BBA\n"
     ]
    }
   ],
   "source": [
    "#1\n",
    "\n",
    "class Student:\n",
    "    def __init__(self, name=\"Just a student\", dept=\"nothing\"):\n",
    "        self.__name = name\n",
    "        self.__department = dept\n",
    "    def set_department(self, dept):\n",
    "        self.__department = dept\n",
    "    def get_name(self):\n",
    "        return self.__name\n",
    "    def set_name(self,name):\n",
    "        self.__name = name\n",
    "    def __str__(self):\n",
    "        return 'Name: '+self.__name+' Department: '+self.__department\n",
    "class BBA_Student(Student):\n",
    "    Student.set_department(Student,\"BBA\")\n",
    "    def __init__(self,name=None):\n",
    "        if name == None:\n",
    "            Student.set_name(Student,\"dafault\")\n",
    "        else:\n",
    "            Student.set_name(Student, name)\n",
    "        Student.__str__(Student)\n",
    "print(BBA_Student())\n",
    "print(BBA_Student('Humpty Dumpty'))\n",
    "print(BBA_Student('Little Bo Peep'))"
   ]
  },
  {
   "cell_type": "code",
   "execution_count": 6,
   "metadata": {},
   "outputs": [
    {
     "name": "stdout",
     "output_type": "stream",
     "text": [
      "Part 1\n",
      "------\n",
      "(0 , 0)\n",
      "(0 , 1)\n",
      "(-1 , 1)\n",
      "(-1 , 0)\n",
      "(0 , 0)\n",
      "------\n",
      "Part 2\n",
      "------\n",
      "(0 , 0)\n",
      "(-1 , -1)\n",
      "False\n",
      "True\n",
      "------\n"
     ]
    }
   ],
   "source": [
    "#q2\n",
    "\n",
    "class Vehicle:\n",
    "    def __init__(self):\n",
    "        self.x = 0\n",
    "        self.y = 0\n",
    "    def moveUp(self):\n",
    "        self.y+=1\n",
    "    def moveDown(self):\n",
    "        self.y-=1\n",
    "    def moveRight(self):\n",
    "        self.x+=1\n",
    "    def moveLeft(self):\n",
    "        self.x-=1\n",
    "    def __str__(self):\n",
    "        return '('+str(self.x)+' , '+str(self.y)+')'\n",
    "class Vehicle2010(Vehicle):\n",
    "    def moveUpperRight(self):\n",
    "        Vehicle.moveUp(Vehicle)\n",
    "        Vehicle.moveRight(Vehicle)\n",
    "    def moveUpperLeft(self):\n",
    "        Vehicle.moveUp(Vehicle)\n",
    "        Vehicle.moveLeft(Vehicle)\n",
    "    def moveLowerRight(self):\n",
    "        Vehicle.moveDown(Vehicle)\n",
    "        Vehicle.moveRight(Vehicle)\n",
    "    def moveLowerLeft(self):\n",
    "        Vehicle.moveDown(self)\n",
    "        Vehicle.moveLeft(self)\n",
    "    def equals(self,name):\n",
    "        if self.__str__() == name.__str__():\n",
    "            return True\n",
    "        else:\n",
    "            return False\n",
    "print('Part 1')\n",
    "print('------')\n",
    "car = Vehicle()\n",
    "print(car)\n",
    "car.moveUp()\n",
    "print(car)\n",
    "car.moveLeft()\n",
    "print(car)\n",
    "car.moveDown()\n",
    "print(car)\n",
    "car.moveRight()\n",
    "print(car)\n",
    "print('------')\n",
    "print('Part 2')\n",
    "print('------')\n",
    "car1 = Vehicle2010()\n",
    "print(car1)\n",
    "car1.moveLowerLeft()\n",
    "print(car1)\n",
    "car2 = Vehicle2010()\n",
    "car2.moveLeft()\n",
    "print(car1.equals(car2))\n",
    "car2.moveDown()\n",
    "print(car1.equals(car2))\n",
    "print('------')"
   ]
  },
  {
   "cell_type": "code",
   "execution_count": 7,
   "metadata": {},
   "outputs": [
    {
     "name": "stdout",
     "output_type": "stream",
     "text": [
      "RealPart: 1.0\n",
      "Imaginarypart: 1.0\n",
      "---------\n",
      "RealPart: 5.0\n",
      "Imaginarypart: 7.0\n",
      "---------\n"
     ]
    }
   ],
   "source": [
    "#q3\n",
    "\n",
    "class RealNumber:\n",
    "    def __init__(self, r=0):\n",
    "        self.__realValue = r\n",
    "    def getRealValue(self):\n",
    "        return self.__realValue\n",
    "    def setRealValue(self, r):\n",
    "        self.__realValue = r\n",
    "    def ping(self):\n",
    "        print('I am in RealNumber class')\n",
    "    def __str__(self):\n",
    "        return 'RealPart: '+str(self.getRealValue())\n",
    "class ComplexNumber(RealNumber):\n",
    "    def __init__(self,n1=None,n2=None):\n",
    "        if n2==None:\n",
    "            self.n2=1.0\n",
    "        else:\n",
    "            self.n2=float(n2)\n",
    "        if n1==None:\n",
    "            self.n1=1.0\n",
    "        else:\n",
    "            self.n1=float(n1)\n",
    "    def __str__(self):\n",
    "        return 'RealPart: ' + str(self.n1) + '\\nImaginarypart: '+ str(self.n2)\n",
    "cn1 = ComplexNumber()\n",
    "print(cn1)\n",
    "print('---------')\n",
    "cn2 = ComplexNumber(5,7)\n",
    "print(cn2)\n",
    "print('---------')"
   ]
  },
  {
   "cell_type": "code",
   "execution_count": 8,
   "metadata": {},
   "outputs": [
    {
     "name": "stdout",
     "output_type": "stream",
     "text": [
      "Number of Checking Accounts: 0\n",
      "Account Balance:0.0\n",
      "Account Balance:100.0\n",
      "Account Balance:200.0\n",
      "Number of Checking Accounts: 3\n"
     ]
    }
   ],
   "source": [
    "#q4\n",
    "\n",
    "class Account:\n",
    "    def __init__(self,balance):\n",
    "        self._balance = balance\n",
    "    def getBalance(self):\n",
    "        return self._balance\n",
    "class CheckingAccount(Account):\n",
    "    n = 0\n",
    "    numberOfAccount = str(n)\n",
    "    def __init__(self,amount=None):\n",
    "        if amount == None:\n",
    "            self._balance=0.0\n",
    "        else:\n",
    "            self._balance=amount\n",
    "        print(\"Account Balance:\",end=\"\")\n",
    "        CheckingAccount.n += 1\n",
    "        CheckingAccount.numberOfAccount = str(CheckingAccount.n)\n",
    "    def __str__(self):\n",
    "        return str(self.getBalance())\n",
    "print('Number of Checking Accounts: '+CheckingAccount.numberOfAccount)\n",
    "print(CheckingAccount())\n",
    "print(CheckingAccount(100.00))\n",
    "print(CheckingAccount(200.00))\n",
    "print('Number of Checking Accounts: '+CheckingAccount.numberOfAccount)\n"
   ]
  },
  {
   "cell_type": "code",
   "execution_count": 9,
   "metadata": {},
   "outputs": [
    {
     "name": "stdout",
     "output_type": "stream",
     "text": [
      "Animal does not make sound\n",
      "meow\n",
      "bark\n"
     ]
    }
   ],
   "source": [
    "#q5\n",
    "\n",
    "class Animal:\n",
    "    def __init__(self,sound):\n",
    "        self.__sound = sound\n",
    "    def makeSound(self):\n",
    "        return self.__sound\n",
    "class Printer(Animal):\n",
    "    def __init__(self):\n",
    "        pass\n",
    "    def printSound(self, a):\n",
    "        print(a.makeSound())\n",
    "class Dog(Animal):\n",
    "    pass\n",
    "class Cat(Animal):\n",
    "    pass\n",
    "d1 = Dog('bark')\n",
    "c1 = Cat('meow')\n",
    "a1 = Animal('Animal does not make sound')\n",
    "pr = Printer()\n",
    "pr.printSound(a1)\n",
    "pr.printSound(c1)\n",
    "pr.printSound(d1)"
   ]
  },
  {
   "cell_type": "code",
   "execution_count": 10,
   "metadata": {},
   "outputs": [
    {
     "name": "stdout",
     "output_type": "stream",
     "text": [
      "----Printing Detail----\n",
      "Do not eat the  Mango .\n",
      "Mangos are bad for you\n",
      "----Printing Detail----\n",
      "Eat the  Jackfruit .\n",
      "Jackfruits are good for you\n"
     ]
    }
   ],
   "source": [
    "#q6\n",
    "\n",
    "class Fruit:\n",
    "    def __init__(self, formalin=False, name=''):\n",
    "        self.__formalin = formalin\n",
    "        self.name = name\n",
    "    def getName(self):\n",
    "        return self.name\n",
    "    def hasFormalin(self):\n",
    "        return self.__formalin\n",
    "    def __str__(self):\n",
    "        return self.name\n",
    "class Mango(Fruit):\n",
    "    def __init__(self, formalin=True, name='Mango'):\n",
    "        self.__formalin = formalin\n",
    "        self.name = name\n",
    "    def hasFormalin(self):\n",
    "        return self.__formalin\n",
    "class Jackfruit(Fruit):\n",
    "    def __init__(self, formalin=False, name='Jackfruit'):\n",
    "        self.__formalin = formalin\n",
    "        self.name = name\n",
    "    def hasFormalin(self):\n",
    "        return self.__formalin\n",
    "class testFruit:\n",
    "    def test(self, f):\n",
    "        print('----Printing Detail----')\n",
    "        if f.hasFormalin():\n",
    "            print('Do not eat the ', f.getName(), '.')\n",
    "            print(f, 's are bad for you', sep='')\n",
    "        else:\n",
    "            print('Eat the ', f.getName(), '.')\n",
    "            print(f, 's are good for you', sep='')\n",
    "m = Mango()\n",
    "j = Jackfruit()\n",
    "t1 = testFruit()\n",
    "t1.test(m)\n",
    "t1.test(j)"
   ]
  }
 ],
 "metadata": {
  "kernelspec": {
   "display_name": "Python 3",
   "language": "python",
   "name": "python3"
  },
  "language_info": {
   "codemirror_mode": {
    "name": "ipython",
    "version": 3
   },
   "file_extension": ".py",
   "mimetype": "text/x-python",
   "name": "python",
   "nbconvert_exporter": "python",
   "pygments_lexer": "ipython3",
   "version": "3.7.6"
  }
 },
 "nbformat": 4,
 "nbformat_minor": 4
}
