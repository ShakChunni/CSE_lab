{
 "cells": [
  {
   "cell_type": "code",
   "execution_count": 5,
   "metadata": {
    "scrolled": true
   },
   "outputs": [
    {
     "name": "stdout",
     "output_type": "stream",
     "text": [
      "Enter max number in series\n",
      "28\n",
      "Enter a integer to check if it's in series\n",
      "11\n",
      "{1: 1, 2: 6, 3: 15, 4: 28}\n",
      "no such value exists\n"
     ]
    }
   ],
   "source": [
    "#q1\n",
    "ch_limit=int(input(\"Enter max number in series\\n\"))\n",
    "series=1\n",
    "n=0\n",
    "x=False\n",
    "my_dict={}\n",
    "while series<=ch_limit:\n",
    "    if n!=0:\n",
    "        my_dict[n]=series\n",
    "    n+=1\n",
    "    series=int((2*n * (2*n- 1))/2)\n",
    "my_dict_valueCheck=int(input(\"Enter a integer to check if it's in series\\n\"))\n",
    "print(my_dict)\n",
    "for i in my_dict.keys():\n",
    "    if my_dict[i]==my_dict_valueCheck:\n",
    "        print(\"Key: \",i,\", Value: \",my_dict[i],sep=(\"\"))\n",
    "        x=True\n",
    "if x==False:\n",
    "    print(\"no such value exists\")\n"
   ]
  },
  {
   "cell_type": "code",
   "execution_count": 9,
   "metadata": {},
   "outputs": [
    {
     "name": "stdout",
     "output_type": "stream",
     "text": [
      "No of account holders: 0\n",
      "=========================\n",
      "Add Money successfully !!\n",
      "Name: Abdul\n",
      "Age: 45\n",
      "Occupation: Service Holder\n",
      "Total Amount: 800000\n",
      "=========================\n",
      "Withdraw Successful !!\n",
      "Name: Rahim\n",
      "Age: 55\n",
      "Occupation: Businessman\n",
      "Total Amount: 0\n",
      "=========================\n",
      "Not sufficient balance.\n",
      "Name: Ashraf\n",
      "Age: 62\n",
      "Occupation: Govt. Officer\n",
      "Total Amount: 200000\n",
      "=========================\n",
      "No of account holders: 3\n"
     ]
    }
   ],
   "source": [
    "#q2\n",
    "class Account:\n",
    "    count=0\n",
    "    balance:0\n",
    "    def __init__(self,n1,n2,n3,n4):\n",
    "        self.name=n1\n",
    "        self.age=n2\n",
    "        self.occupation=n3\n",
    "        self.ammount=n4\n",
    "        Account.count+=1\n",
    "    def addMoney(self,n5):\n",
    "        self.ammount+=n5\n",
    "        print(\"Add Money successfully !!\")\n",
    "    def withdrawMoney(self,n6):\n",
    "        if n6>self.ammount:\n",
    "            print(\"Not sufficient balance.\")\n",
    "        else:\n",
    "            self.ammount-=n6\n",
    "            print(\"Withdraw Successful !!\")\n",
    "    def printDetails(self):\n",
    "        print(\"Name:\",self.name)\n",
    "        print(\"Age:\",self.age)\n",
    "        print(\"Occupation:\",self.occupation)\n",
    "        print(\"Total Amount:\",self.ammount)\n",
    "print('No of account holders:', Account.count)\n",
    "print(\"=========================\")\n",
    "p1 = Account(\"Abdul\", 45, \"Service Holder\", 500000)\n",
    "p1.addMoney(300000)\n",
    "p1.printDetails()\n",
    "print(\"=========================\")\n",
    "p2 = Account(\"Rahim\", 55, \"Businessman\", 700000)\n",
    "p2.withdrawMoney(700000)\n",
    "p2.printDetails()\n",
    "print(\"=========================\")\n",
    "p3 = Account(\"Ashraf\", 62, \"Govt. Officer\", 200000)\n",
    "p3.withdrawMoney(250000)\n",
    "p3.printDetails()\n",
    "print(\"=========================\")\n",
    "print('No of account holders:', Account.count)"
   ]
  },
  {
   "cell_type": "code",
   "execution_count": 7,
   "metadata": {},
   "outputs": [
    {
     "name": "stdout",
     "output_type": "stream",
     "text": [
      "=========================\n",
      "Name: Thiago Silva , Rating: 8.5\n",
      "=========================\n",
      "Name: Cristiano Ronaldo , Rating: 9.0\n",
      "=========================\n",
      "Name: Lionel Messi , Rating: 9.5\n",
      "=========================\n",
      "Point of Thiago Silva : 73.0\n",
      "=========================\n",
      "Point of Cristiano Ronaldo : 89.0\n",
      "=========================\n",
      "Point of Lionel Messi : 94.0\n"
     ]
    }
   ],
   "source": [
    "#q3\n",
    "class Player:\n",
    "     def init(self,name,goalsScored,tacklesWon):\n",
    "         self.name = name\n",
    "         self.goalsScored = goalsScored\n",
    "         self.tacklesWon = tacklesWon\n",
    "         self.point=0\n",
    "     def calculatePoint(self):\n",
    "          self.point+=(self.goalsScored*4)+(self.tacklesWon*3)\n",
    "class Defender:\n",
    "    def __init__(self,name,goalsScored,tacklesWon,rating):\n",
    "        self.name=name\n",
    "        self.goalsScored=goalsScored\n",
    "        self.tacklesWon=tacklesWon\n",
    "        self.rating=rating\n",
    "        print(\"Name:\",self.name,\",\",\"Rating:\",self.rating)\n",
    "    def calculatePoint(self):\n",
    "        self.point=(self.goalsScored*4)+(self.tacklesWon*3)+(self.rating*2)\n",
    "        print(\"Point of\", self.name, \":\", self.point)\n",
    "class Attacker:\n",
    "    def __init__(self,name,goalsScored,tacklesWon,rating):\n",
    "        self.name=name\n",
    "        self.goalsScored=goalsScored\n",
    "        self.tacklesWon=tacklesWon\n",
    "        self.rating=rating\n",
    "        print(\"Name:\", self.name,\",\",\"Rating:\", self.rating)\n",
    "    def calculatePoint(self):\n",
    "        self.point = (self.goalsScored * 4) + (self.tacklesWon * 3) + (self.rating * 2)\n",
    "        print(\"Point of\", self.name, \":\", self.point)\n",
    "print('=========================')\n",
    "p1 = Defender(\"Thiago Silva\",5,12,8.5)\n",
    "print('=========================')\n",
    "p2 = Attacker(\"Cristiano Ronaldo\",14,5,9.0)\n",
    "print('=========================')\n",
    "p3 = Attacker(\"Lionel Messi\",12,9,9.5)\n",
    "print('=========================')\n",
    "p1.calculatePoint()\n",
    "print('=========================')\n",
    "p2.calculatePoint()\n",
    "print('=========================')\n",
    "p3.calculatePoint()"
   ]
  },
  {
   "cell_type": "code",
   "execution_count": null,
   "metadata": {},
   "outputs": [],
   "source": []
  }
 ],
 "metadata": {
  "kernelspec": {
   "display_name": "Python 3",
   "language": "python",
   "name": "python3"
  },
  "language_info": {
   "codemirror_mode": {
    "name": "ipython",
    "version": 3
   },
   "file_extension": ".py",
   "mimetype": "text/x-python",
   "name": "python",
   "nbconvert_exporter": "python",
   "pygments_lexer": "ipython3",
   "version": "3.7.6"
  }
 },
 "nbformat": 4,
 "nbformat_minor": 4
}
